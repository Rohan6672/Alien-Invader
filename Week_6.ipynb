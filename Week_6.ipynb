{
  "cells": [
    {
      "cell_type": "markdown",
      "metadata": {
        "id": "view-in-github",
        "colab_type": "text"
      },
      "source": [
        "<a href=\"https://colab.research.google.com/github/Rohan6672/Alien-Invader/blob/master/Week_6.ipynb\" target=\"_parent\"><img src=\"https://colab.research.google.com/assets/colab-badge.svg\" alt=\"Open In Colab\"/></a>"
      ]
    },
    {
      "cell_type": "code",
      "execution_count": 1,
      "metadata": {
        "colab": {
          "base_uri": "https://localhost:8080/"
        },
        "id": "8Bxk9zC0BkrZ",
        "outputId": "004e98ee-a022-4979-9d98-14441ba50cc5"
      },
      "outputs": [
        {
          "output_type": "stream",
          "name": "stdout",
          "text": [
            "Mounted at /content/drive\n"
          ]
        }
      ],
      "source": [
        "import os\n",
        "from google.colab import drive\n",
        "drive.mount('/content/drive')\n",
        "os.chdir('/content/drive/MyDrive/LFW_Week5')\n"
      ]
    },
    {
      "cell_type": "code",
      "execution_count": 2,
      "metadata": {
        "id": "1bOFQCrcCDOt"
      },
      "outputs": [],
      "source": [
        "import requests\n",
        "import tarfile\n",
        "import os\n",
        "import numpy as np\n",
        "import cv2\n",
        "import imgaug as ia\n",
        "from imgaug import augmenters as iaa\n",
        "from typing import List\n",
        "import matplotlib.pyplot as plt\n",
        "\n",
        "import tensorflow as tf\n",
        "from tensorflow import keras, TensorSpec, dtypes\n",
        "from tensorflow.data import Dataset, AUTOTUNE\n",
        "\n",
        "import bz2\n",
        "from face_recognition.align import AlignDlib\n"
      ]
    },
    {
      "cell_type": "code",
      "execution_count": 3,
      "metadata": {
        "id": "ttTI7DLDIqkU"
      },
      "outputs": [],
      "source": [
        "data_dir_name = 'data'\n",
        "lfw_data_path = os.path.join(data_dir_name, 'lfw')\n",
        "\n",
        "landmarks_dir = 'models'\n",
        "landmarks_path = os.path.join(landmarks_dir, 'landmarks.dat')\n",
        "\n",
        "training_pairs_name = 'pairsDevTrain.txt'\n",
        "testing_pairs_name = 'pairsDevTest.txt'\n"
      ]
    },
    {
      "cell_type": "code",
      "execution_count": 4,
      "metadata": {
        "id": "JRUMa_0vJYBV"
      },
      "outputs": [],
      "source": [
        "class LfwDataGenerator():\n",
        "    # Initialization Function\n",
        "    def __init__(self, pairs_file_name, batch_size=4, anchor_shape=(96,96), n_channels=3, \n",
        "        img_aug=False, face_align=False,landmarks_path=landmarks_path, data_path=lfw_data_path):\n",
        "        self.pairs_file_name = pairs_file_name\n",
        "        self.batch_size = batch_size\n",
        "        self.anchor_shape = anchor_shape\n",
        "        self.n_channels = n_channels\n",
        "        self.img_aug = img_aug\n",
        "        self.face_align = face_align\n",
        "        # read the pairs_file_name and stores the image paths as lists of tuples of \n",
        "        # either positive or negative pairs\n",
        "        self.positive_pairs = []\n",
        "        self.negative_pairs = []\n",
        "        with open(pairs_file_name, 'rt') as f:\n",
        "            for line in f:\n",
        "                tokens = line.split()\n",
        "                if len(tokens) == 3:\n",
        "                       self.positive_pairs.append([(tokens[0],tokens[1]),(tokens[0],tokens[2])])\n",
        "                elif len(tokens) == 4:\n",
        "                    self.negative_pairs.append([(tokens[0],tokens[1]),(tokens[2],tokens[3])])\n",
        "        \n",
        "        min_len = min(len(self.positive_pairs), len(self.negative_pairs))\n",
        "        self.pos_indexes = np.arange(min_len)\n",
        "        self.neg_indexes = np.arange(min_len)\n",
        "        self.alignment = AlignDlib(landmarks_path) # create the face alignment model\n",
        "        self.augmenter = iaa.Sequential([ # create the image augmenter\n",
        "            iaa.Crop(px=(0,16)), # crop images from each side by 0 to 16px (randomly chosen)\n",
        "            iaa.Fliplr(0.5), # horizontally flip 50% of the images\n",
        "            iaa.GaussianBlur(sigma=(0,1.0)), # blur images with a sigma of 0 to 3.0\n",
        "            iaa.GammaContrast((0.5, 2.0)), # adjust the image contrast \n",
        "        ])\n",
        "    # Length Function\n",
        "    def __len__(self):\n",
        "        return len(self.pos_indexes)\n",
        "    # Get Image Path Function\n",
        "    def get_image_path(self, name, id):\n",
        "        path_name = os.path.join(lfw_data_path, name)\n",
        "        return os.path.join(path_name, name) + \"_\" + f\"{id}\".zfill(4) + \".jpg\"\n",
        "    # Load Image Function\n",
        "    def load_image(self, name, id):\n",
        "        img = cv2.imread(self.get_image_path(name, id))\n",
        "        img = cv2.cvtColor(img, cv2.COLOR_BGR2RGB)\n",
        "        img = img.astype('float32')\n",
        "        img = img / 255.0\n",
        "        return img\n",
        "    # Get Item Function\n",
        "    def __getitem__(self, index):\n",
        "        pos_pair = self.positive_pairs[self.pos_indexes[index]]\n",
        "        neg_pair = self.negative_pairs[self.neg_indexes[index]]\n",
        "    \n",
        "        pos_name, pos_id_1 = pos_pair[0]\n",
        "        anchor_img = self.load_image(pos_name, pos_id_1)\n",
        "        \n",
        "        pos_name, pos_id_2 = pos_pair[1]\n",
        "        pos_img = self.load_image(pos_name, pos_id_2)\n",
        "        \n",
        "        neg_name, neg_id = neg_pair[0]\n",
        "        if pos_name == neg_name:\n",
        "            neg_name, neg_id = neg_pair[1]\n",
        "        neg_img = self.load_image(neg_name, neg_id)\n",
        "        if self.face_align:\n",
        "            anchor_img = self.align_image(anchor_img)\n",
        "            pos_img = self.align_image(pos_img)\n",
        "            neg_img = self.align_image(neg_img)\n",
        "        if self.img_aug:\n",
        "            anchor_img = self.augment_image(anchor_img)\n",
        "            pos_img = self.augment_image(pos_img)\n",
        "            neg_img = self.augment_image(neg_img)\n",
        "        # Resize Images\n",
        "        anchor_img = cv2.resize(anchor_img, self.anchor_shape)\n",
        "        pos_img = cv2.resize(pos_img, self.anchor_shape)\n",
        "        neg_img = cv2.resize(neg_img, self.anchor_shape)\n",
        "        return (anchor_img, pos_img, neg_img), None\n",
        "    # Generate Function\n",
        "    def generate(self):\n",
        "        for index in self.pos_indexes:\n",
        "            yield self[index]\n",
        "    # Get Generator Function\n",
        "    def get_generator(self):\n",
        "        tfdatagen = Dataset.from_generator(\n",
        "            # create a tf.Dataset generator using the generate method\n",
        "            self.generate, \n",
        "            # define the outputs of the tf.Dataset generator\n",
        "            output_signature=(\n",
        "                # Input: image shapes and datatypes\n",
        "                (TensorSpec((self.anchor_shape[0], self.anchor_shape[1], self.n_channels), \n",
        "                            dtypes.float32),\n",
        "                TensorSpec((self.anchor_shape[0], self.anchor_shape[1], self.n_channels), \n",
        "                            dtypes.float32),\n",
        "                TensorSpec((self.anchor_shape[0], self.anchor_shape[1], self.n_channels), \n",
        "                            dtypes.float32)),\n",
        "                # Label Embeddings\n",
        "                TensorSpec(None)))\n",
        "        return (tfdatagen\n",
        "            # set the batch size\n",
        "            .batch(self.batch_size)\n",
        "            # shuffle to randomly select images\n",
        "            .shuffle(self.batch_size*2)\n",
        "            # prefetch for performance optimization\n",
        "            .prefetch(AUTOTUNE))\n",
        "    # Image Augmentation Function\n",
        "    def augment_image(self, img):\n",
        "        return self.augmenter(images=[img])[0]\n",
        "    # Image Align Function\n",
        "    def align_image(self, img):\n",
        "        img = (img*255).astype(\"uint8\")\n",
        "        alignment = self.alignment\n",
        "        bb = alignment.getLargestFaceBoundingBox(img) # get face bounding box\n",
        "        if bb is not None:\n",
        "            img = alignment.align(self.anchor_shape[0],img,bb,\n",
        "                                    landmarkIndices=AlignDlib.OUTER_EYES_AND_NOSE)\n",
        "        return img.astype(\"float32\") / 255\n",
        "\n",
        "\n",
        "\n",
        "\n",
        "\n",
        "\n",
        "\n",
        "\n"
      ]
    },
    {
      "cell_type": "code",
      "execution_count": 5,
      "metadata": {
        "id": "XhTEmU1IJcV2"
      },
      "outputs": [],
      "source": [
        "from tensorflow.keras import backend as K\n",
        "from tensorflow.keras.layers import Layer\n",
        "class TripletLossLayer(Layer):\n",
        "    # Function: Initialize\n",
        "    def __init__(self, alpha, **kwargs):\n",
        "        self.alpha = alpha\n",
        "        super(TripletLossLayer, self).__init__(**kwargs)\n",
        "    # Function: Get Configuration\n",
        "    def get_config(self):\n",
        "        config = super().get_config().copy()\n",
        "        config.update({\n",
        "            'alpha' : self.alpha,\n",
        "        })\n",
        "        return config\n",
        "    # Function: Triplet Loss\n",
        "    def triplet_loss(self, inputs):\n",
        "        a, p, n = inputs\n",
        "        p_dist = K.sum(K.square(a - p), axis = -1)\n",
        "        n_dist = K.sum(K.square(a - n), axis = -1)\n",
        "        return K.sum(K.maximum(p_dist - n_dist + self.alpha, 0), axis = 0)\n",
        "    # Function: Call\n",
        "    def call(self, inputs):\n",
        "        loss = self.triplet_loss(inputs)\n",
        "        self.add_loss(loss)\n",
        "        return loss\n",
        "    # Function:\n",
        "\n",
        "\n",
        "\n",
        "\n",
        "\n",
        "\n",
        "\n",
        "\n",
        "\n",
        "\n",
        "\n"
      ]
    },
    {
      "cell_type": "code",
      "execution_count": 6,
      "metadata": {
        "id": "Arr8cH7uUVzA"
      },
      "outputs": [],
      "source": [
        "\n",
        "\n",
        "      \n",
        "# Initialize the data generator\n",
        "class OldLfwDataGenerator():\n",
        "  \n",
        "\n",
        "  def __init__(self, pairs_file_name, batch_size=4, anchor_shape=(96,96), n_channels=3, \n",
        "img_aug=False, face_align=False, data_path=lfw_data_path):\n",
        "        self.pairs_file_name = pairs_file_name\n",
        "        self.batch_size = batch_size\n",
        "        self.anchor_shape = anchor_shape\n",
        "        self.n_channels = n_channels\n",
        "        self.img_aug = img_aug\n",
        "        self.face_align = face_align\n",
        "        self.positive_pairs = []\n",
        "        self.negative_pairs = []\n",
        "        with open(pairs_file_name, 'rt') as f:\n",
        "            for line in f:\n",
        "                tokens = line.split()\n",
        "                if len(tokens) == 3:\n",
        "              \t     self.positive_pairs.append([(tokens[0],tokens[1]),(tokens[0],tokens[2])])\n",
        "                elif len(tokens) == 4:\n",
        "                    self.negative_pairs.append([(tokens[0],tokens[1]),(tokens[2],tokens[3])])\n",
        "        \n",
        "        min_len = min(len(self.positive_pairs), len(self.negative_pairs))\n",
        "        self.pos_indexes = np.arange(min_len)\n",
        "        self.neg_indexes = np.arange(min_len)\n",
        "\n",
        "  def __len__(self):\n",
        "      return len(self.pos_indexes)\n",
        "\n",
        "  # helper functions to load images\n",
        "  def get_image_path(self, name, id):\n",
        "      path_name = os.path.join(lfw_data_path, name)\n",
        "      return os.path.join(path_name, name) + \"_\" + f\"{id}\".zfill(4) + \".jpg\"\n",
        "\n",
        "  def load_image(self, name, id):\n",
        "      img = cv2.imread(self.get_image_path(name, id))\n",
        "      img = cv2.cvtColor(img, cv2.COLOR_BGR2RGB)\n",
        "      img = img.astype('float32')\n",
        "      img = img / 255.0\n",
        "      return img\n",
        "  def __getitem__(self, index):\n",
        "      pos_pair = self.positive_pairs[self.pos_indexes[index]]\n",
        "      neg_pair = self.negative_pairs[self.neg_indexes[index]]\n",
        "      \n",
        "      pos_name, pos_id_1 = pos_pair[0]\n",
        "      anchor_img = self.load_image(pos_name, pos_id_1)\n",
        "      \n",
        "      pos_name, pos_id_2 = pos_pair[1]\n",
        "      pos_img = self.load_image(pos_name, pos_id_2)\n",
        "      \n",
        "      neg_name, neg_id = neg_pair[0]\n",
        "      if pos_name == neg_name:\n",
        "          neg_name, neg_id = neg_pair[1]\n",
        "      neg_img = self.load_image(neg_name, neg_id)\n",
        "          \n",
        "      return (anchor_img,pos_img,neg_img),None\n",
        "  def generate(self):\n",
        "      for index in self.pos_indexes:\n",
        "          yield self[index]\n",
        "  def get_generator(self):\n",
        "      tfdatagen = Dataset.from_generator(\n",
        "          self.generate, \n",
        "          output_signature=(\n",
        "            (TensorSpec((self.anchor_shape[0],self.anchor_shape[1],self.n_channels),\n",
        "                        dtypes.float32),\n",
        "             TensorSpec((self.anchor_shape[0],self.anchor_shape[1],self.n_channels),\n",
        "                        dtypes.float32),\n",
        "             TensorSpec((self.anchor_shape[0],self.anchor_shape[1],self.n_channels),\n",
        "                        dtypes.float32)),TensorSpec(None))\n",
        "      )\n",
        "      return (tfdatagen\n",
        "          # set the batch size\n",
        "          .batch(self.batch_size)\n",
        "          # shuffle to randomly select images\n",
        "          .shuffle(self.batch_size*2)\n",
        "          # prefetch for performance optimization\n",
        "          .prefetch(AUTOTUNE)\n",
        "          )\n",
        "\n",
        "\n",
        "\n",
        "\n",
        "\n",
        "\n",
        "batchsize = 4 # Number of tuples in each batch\n",
        "generator = LfwDataGenerator(pairs_file_name = training_pairs_name, \n",
        "                             batch_size=batchsize, \n",
        "                             img_aug = True, \n",
        "                             face_align=True)\n"
      ]
    },
    {
      "cell_type": "code",
      "execution_count": 7,
      "metadata": {
        "colab": {
          "base_uri": "https://localhost:8080/",
          "height": 176
        },
        "id": "tob9D5WlsbGR",
        "outputId": "2fcda84b-6f3e-41ac-a07b-9946680ec04c"
      },
      "outputs": [
        {
          "output_type": "display_data",
          "data": {
            "text/plain": [
              "<Figure size 432x288 with 3 Axes>"
            ],
            "image/png": "[encoded data removed]"
          },
          "metadata": {
            "needs_background": "light"
          }
        }
      ],
      "source": [
        "# Retrieve tuple of images\n",
        "(anchor_img, pos_img, neg_img), embedding = generator[1]\n",
        "\n",
        "# Show anchor, positive, negative images and their shapes\n",
        "plt.subplot(1, 3, 1)\n",
        "plt.imshow(anchor_img)\n",
        "plt.xlabel(\"anchor_img\\n\" + str(anchor_img.shape))\n",
        "\n",
        "plt.subplot(1, 3, 2)\n",
        "plt.imshow(pos_img)\n",
        "plt.xlabel(\"pos_img\\n\" + str(pos_img.shape))\n",
        "\n",
        "plt.subplot(1, 3, 3)\n",
        "plt.imshow(neg_img)\n",
        "plt.xlabel(\"neg_img\\n\" + str(neg_img.shape))\n",
        "\n",
        "plt.show()\n"
      ]
    },
    {
      "cell_type": "code",
      "execution_count": 8,
      "metadata": {
        "id": "1QYxobK6smH0"
      },
      "outputs": [],
      "source": [
        "import matplotlib.patches as patches\n",
        "\n",
        "from tensorflow.keras import backend as K\n",
        "from tensorflow.keras.models import Model\n",
        "from tensorflow.keras import layers\n",
        "from tensorflow.keras.layers import Input, Layer\n",
        "from tensorflow.keras.applications import EfficientNetB0\n",
        "from tensorflow.keras.callbacks import ModelCheckpoint, EarlyStopping\n"
      ]
    },
    {
      "cell_type": "code",
      "execution_count": 9,
      "metadata": {
        "id": "EHjSb8rGsoXL",
        "colab": {
          "base_uri": "https://localhost:8080/"
        },
        "outputId": "000b3459-6b9b-484f-d12e-43e04929385f"
      },
      "outputs": [
        {
          "output_type": "stream",
          "name": "stdout",
          "text": [
            "Downloading data from https://storage.googleapis.com/keras-applications/efficientnetb0_notop.h5\n",
            "16711680/16705208 [==============================] - 0s 0us/step\n",
            "16719872/16705208 [==============================] - 0s 0us/step\n"
          ]
        }
      ],
      "source": [
        "# Input for anchor, positive, and negative images\n",
        "in_a = Input(shape=(96, 96, 3), name=\"img_a\")\n",
        "in_p = Input(shape=(96, 96, 3), name=\"img_p\")\n",
        "in_n = Input(shape=(96, 96, 3), name=\"img_n\")\n",
        "...\n",
        "\n",
        "# create the base model from EfficientNetB0\n",
        "base_cnn = EfficientNetB0(input_shape=(96, 96, 3), include_top=False)\n",
        "\n",
        "flatten = layers.Flatten()(base_cnn.output)\n",
        "dense = layers.Dense(512, activation=\"relu\")(flatten)\n",
        "dense = layers.BatchNormalization()(dense)\n",
        "output = layers.Dense(128)(dense)\n",
        "\n",
        "embedding = Model(base_cnn.input, output, name=\"Embedding\")\n",
        "\n",
        "...\n",
        "\n",
        "# Output the embedding vectors from anchor, positive, and negative images\n",
        "# The model weights are shared (Triplet network)\n",
        "emb_a = embedding(in_a)\n",
        "emb_p = embedding(in_p)\n",
        "emb_n = embedding(in_n)\n",
        "\n",
        "# Layer that computes the triplet loss from anchor, positive and negative embedding vectors\n",
        "triplet_loss_layer = TripletLossLayer(alpha=0.2, name='triplet_loss_layer')([emb_a, emb_p, emb_n])\n",
        "\n",
        "\n",
        "\n",
        "\n"
      ]
    },
    {
      "cell_type": "code",
      "execution_count": 10,
      "metadata": {
        "colab": {
          "base_uri": "https://localhost:8080/"
        },
        "id": "EL0EMVt04AtZ",
        "outputId": "0f4e6f8d-1d4a-46b2-be85-fc0e493abc6c"
      },
      "outputs": [
        {
          "output_type": "stream",
          "name": "stdout",
          "text": [
            "Model: \"model\"\n",
            "__________________________________________________________________________________________________\n",
            " Layer (type)                   Output Shape         Param #     Connected to                     \n",
            "==================================================================================================\n",
            " img_a (InputLayer)             [(None, 96, 96, 3)]  0           []                               \n",
            "                                                                                                  \n",
            " img_p (InputLayer)             [(None, 96, 96, 3)]  0           []                               \n",
            "                                                                                                  \n",
            " img_n (InputLayer)             [(None, 96, 96, 3)]  0           []                               \n",
            "                                                                                                  \n",
            " Embedding (Functional)         (None, 128)          10016035    ['img_a[0][0]',                  \n",
            "                                                                  'img_p[0][0]',                  \n",
            "                                                                  'img_n[0][0]']                  \n",
            "                                                                                                  \n",
            " triplet_loss_layer (TripletLos  ()                  0           ['Embedding[0][0]',              \n",
            " sLayer)                                                          'Embedding[1][0]',              \n",
            "                                                                  'Embedding[2][0]']              \n",
            "                                                                                                  \n",
            "==================================================================================================\n",
            "Total params: 10,016,035\n",
            "Trainable params: 9,972,988\n",
            "Non-trainable params: 43,047\n",
            "__________________________________________________________________________________________________\n"
          ]
        }
      ],
      "source": [
        "model=Model([in_a,in_p,in_n],triplet_loss_layer)\n",
        "model.compile(loss=None,optimizer='adam')\n",
        "model.summary()"
      ]
    },
    {
      "cell_type": "code",
      "execution_count": 11,
      "metadata": {
        "colab": {
          "base_uri": "https://localhost:8080/",
          "height": 37
        },
        "id": "qF8aIklCgkE1",
        "outputId": "325a8516-f4ba-4660-db66-d2ecd860bc08"
      },
      "outputs": [
        {
          "output_type": "execute_result",
          "data": {
            "text/plain": [
              "'/content/drive/MyDrive/LFW_Week5'"
            ],
            "application/vnd.google.colaboratory.intrinsic+json": {
              "type": "string"
            }
          },
          "metadata": {},
          "execution_count": 11
        }
      ],
      "source": [
        "%pwd"
      ]
    },
    {
      "cell_type": "code",
      "execution_count": 12,
      "metadata": {
        "colab": {
          "base_uri": "https://localhost:8080/",
          "height": 868
        },
        "id": "OuvtGD0Wswz1",
        "outputId": "c374b1a0-b34e-4ac4-e2b8-36c0263d7654"
      },
      "outputs": [
        {
          "output_type": "stream",
          "name": "stdout",
          "text": [
            "Epoch 1/10\n",
            "     29/Unknown - 169s 4s/step - loss: 190.0692"
          ]
        },
        {
          "output_type": "error",
          "ename": "UnknownError",
          "evalue": "ignored",
          "traceback": [
            "\u001b[0;31m---------------------------------------------------------------------------\u001b[0m",
            "\u001b[0;31mUnknownError\u001b[0m                              Traceback (most recent call last)",
            "\u001b[0;32m<ipython-input-12-ed23f5e96f63>\u001b[0m in \u001b[0;36m<module>\u001b[0;34m\u001b[0m\n\u001b[1;32m     15\u001b[0m                               \u001b[0mmode\u001b[0m\u001b[0;34m=\u001b[0m\u001b[0;34m'auto'\u001b[0m\u001b[0;34m,\u001b[0m\u001b[0;34m\u001b[0m\u001b[0;34m\u001b[0m\u001b[0m\n\u001b[1;32m     16\u001b[0m                               \u001b[0mpatience\u001b[0m\u001b[0;34m=\u001b[0m\u001b[0;36m3\u001b[0m\u001b[0;34m,\u001b[0m\u001b[0;34m\u001b[0m\u001b[0;34m\u001b[0m\u001b[0m\n\u001b[0;32m---> 17\u001b[0;31m                               verbose=True)])\n\u001b[0m",
            "\u001b[0;32m/usr/local/lib/python3.7/dist-packages/keras/utils/traceback_utils.py\u001b[0m in \u001b[0;36merror_handler\u001b[0;34m(*args, **kwargs)\u001b[0m\n\u001b[1;32m     65\u001b[0m     \u001b[0;32mexcept\u001b[0m \u001b[0mException\u001b[0m \u001b[0;32mas\u001b[0m \u001b[0me\u001b[0m\u001b[0;34m:\u001b[0m  \u001b[0;31m# pylint: disable=broad-except\u001b[0m\u001b[0;34m\u001b[0m\u001b[0;34m\u001b[0m\u001b[0m\n\u001b[1;32m     66\u001b[0m       \u001b[0mfiltered_tb\u001b[0m \u001b[0;34m=\u001b[0m \u001b[0m_process_traceback_frames\u001b[0m\u001b[0;34m(\u001b[0m\u001b[0me\u001b[0m\u001b[0;34m.\u001b[0m\u001b[0m__traceback__\u001b[0m\u001b[0;34m)\u001b[0m\u001b[0;34m\u001b[0m\u001b[0;34m\u001b[0m\u001b[0m\n\u001b[0;32m---> 67\u001b[0;31m       \u001b[0;32mraise\u001b[0m \u001b[0me\u001b[0m\u001b[0;34m.\u001b[0m\u001b[0mwith_traceback\u001b[0m\u001b[0;34m(\u001b[0m\u001b[0mfiltered_tb\u001b[0m\u001b[0;34m)\u001b[0m \u001b[0;32mfrom\u001b[0m \u001b[0;32mNone\u001b[0m\u001b[0;34m\u001b[0m\u001b[0;34m\u001b[0m\u001b[0m\n\u001b[0m\u001b[1;32m     68\u001b[0m     \u001b[0;32mfinally\u001b[0m\u001b[0;34m:\u001b[0m\u001b[0;34m\u001b[0m\u001b[0;34m\u001b[0m\u001b[0m\n\u001b[1;32m     69\u001b[0m       \u001b[0;32mdel\u001b[0m \u001b[0mfiltered_tb\u001b[0m\u001b[0;34m\u001b[0m\u001b[0;34m\u001b[0m\u001b[0m\n",
            "\u001b[0;32m/usr/local/lib/python3.7/dist-packages/tensorflow/python/eager/execute.py\u001b[0m in \u001b[0;36mquick_execute\u001b[0;34m(op_name, num_outputs, inputs, attrs, ctx, name)\u001b[0m\n\u001b[1;32m     53\u001b[0m     \u001b[0mctx\u001b[0m\u001b[0;34m.\u001b[0m\u001b[0mensure_initialized\u001b[0m\u001b[0;34m(\u001b[0m\u001b[0;34m)\u001b[0m\u001b[0;34m\u001b[0m\u001b[0;34m\u001b[0m\u001b[0m\n\u001b[1;32m     54\u001b[0m     tensors = pywrap_tfe.TFE_Py_Execute(ctx._handle, device_name, op_name,\n\u001b[0;32m---> 55\u001b[0;31m                                         inputs, attrs, num_outputs)\n\u001b[0m\u001b[1;32m     56\u001b[0m   \u001b[0;32mexcept\u001b[0m \u001b[0mcore\u001b[0m\u001b[0;34m.\u001b[0m\u001b[0m_NotOkStatusException\u001b[0m \u001b[0;32mas\u001b[0m \u001b[0me\u001b[0m\u001b[0;34m:\u001b[0m\u001b[0;34m\u001b[0m\u001b[0;34m\u001b[0m\u001b[0m\n\u001b[1;32m     57\u001b[0m     \u001b[0;32mif\u001b[0m \u001b[0mname\u001b[0m \u001b[0;32mis\u001b[0m \u001b[0;32mnot\u001b[0m \u001b[0;32mNone\u001b[0m\u001b[0;34m:\u001b[0m\u001b[0;34m\u001b[0m\u001b[0;34m\u001b[0m\u001b[0m\n",
            "\u001b[0;31mUnknownError\u001b[0m: Graph execution error:\n\nerror: OpenCV(4.6.0) /io/opencv/modules/imgproc/src/color.cpp:182: error: (-215:Assertion failed) !_src.empty() in function 'cvtColor'\n\nTraceback (most recent call last):\n\n  File \"/usr/local/lib/python3.7/dist-packages/tensorflow/python/ops/script_ops.py\", line 271, in __call__\n    ret = func(*args)\n\n  File \"/usr/local/lib/python3.7/dist-packages/tensorflow/python/autograph/impl/api.py\", line 642, in wrapper\n    return func(*args, **kwargs)\n\n  File \"/usr/local/lib/python3.7/dist-packages/tensorflow/python/data/ops/dataset_ops.py\", line 1004, in generator_py_func\n    values = next(generator_state.get_iterator(iterator_id))\n\n  File \"<ipython-input-4-91ac766e4d51>\", line 78, in generate\n    yield self[index]\n\n  File \"<ipython-input-4-91ac766e4d51>\", line 61, in __getitem__\n    neg_img = self.load_image(neg_name, neg_id)\n\n  File \"<ipython-input-4-91ac766e4d51>\", line 43, in load_image\n    img = cv2.cvtColor(img, cv2.COLOR_BGR2RGB)\n\ncv2.error: OpenCV(4.6.0) /io/opencv/modules/imgproc/src/color.cpp:182: error: (-215:Assertion failed) !_src.empty() in function 'cvtColor'\n\n\n\n\t [[{{node PyFunc}}]]\n\t [[IteratorGetNext]] [Op:__inference_train_function_39352]"
          ]
        }
      ],
      "source": [
        "EPOCHS = 10 # Maximum number of epochs\n",
        "\n",
        "# Train model on dataset\n",
        "# ModelCheckpoint will automatically save the best model\n",
        "# EarlyStopping will automatically stop when it stops improving\n",
        "model.fit(generator.get_generator(), \n",
        "    epochs = EPOCHS, \n",
        "    callbacks=[ModelCheckpoint(filepath='ckpts/epoch{epoch:03d}_loss{loss:.3f}.hdf5',\n",
        "                                monitor = 'loss',\n",
        "                                save_best_only = True,\n",
        "                                mode = 'auto',\n",
        "                                save_weights_only = True,\n",
        "                                verbose = 1),\n",
        "                EarlyStopping(monitor='loss',\n",
        "                              mode='auto',\n",
        "                              patience=3,\n",
        "                              verbose=True)])\n"
      ]
    },
    {
      "cell_type": "code",
      "execution_count": null,
      "metadata": {
        "id": "MpNW-hUe4psi"
      },
      "outputs": [],
      "source": [
        "base_model = model.get_layer(\"Embedding\")"
      ]
    },
    {
      "cell_type": "code",
      "execution_count": null,
      "metadata": {
        "id": "ZNZiadcAs0zU"
      },
      "outputs": [],
      "source": [
        "def embedding_distance(embedding1, embedding2):\n",
        "  # Return L2 distance\n",
        "  return np.sum(np.square(embedding1 - embedding2))\n",
        "\n"
      ]
    },
    {
      "cell_type": "code",
      "execution_count": null,
      "metadata": {
        "id": "RvT8bORxs8Bn"
      },
      "outputs": [],
      "source": [
        "alignment = AlignDlib(landmarks_path) # create the face alignment model\n",
        "augmenter = iaa.Sequential([ # create the image augmenter\n",
        "    iaa.Fliplr(0.5), # horizontally flip 50% of the images\n",
        "    iaa.GaussianBlur(sigma=(0,1.0)), # blur images with a sigma of 0 to 3.0\n",
        "    iaa.GammaContrast((0.5, 2.0)), # adjust the image contrast\n",
        "])\n",
        "\n",
        "def preprocess_image(img_path=\"\", img_aug=True, face_align=True, alignment=alignment, augmenter=augmenter, target_shape=(96,96)):\n",
        "    img = cv2.imread(img_path)\n",
        "    img = cv2.cvtColor(img, cv2.COLOR_BGR2RGB)\n",
        "    if face_align and (alignment is not None):\n",
        "        bb = alignment.getLargestFaceBoundingBox(img) # get face bounding box\n",
        "        if bb is not None:\n",
        "            img = alignment.align(target_shape[0], img, bb,\n",
        "                                  landmarkIndices=AlignDlib.OUTER_EYES_AND_NOSE)\n",
        "    img = img.astype(\"float32\") / 255.0\n",
        "    if img_aug and (augmenter is not None):\n",
        "        img = augmenter(images=[img])[0]\n",
        "    img = cv2.resize(img, target_shape)\n",
        "    img = np.expand_dims(img,axis = 0)\n",
        "    return img\n",
        "\n"
      ]
    },
    {
      "cell_type": "code",
      "execution_count": null,
      "metadata": {
        "id": "uKMteIXws905"
      },
      "outputs": [],
      "source": [
        "# Build dataset of COML images\n",
        "COML_images = []\n",
        "face_data_dir = '/content/drive/Shareddrives/2022 FIRE COML STUDENTS/Spring/Face Photos Dataset'\n",
        "persons = os.listdir(face_data_dir)\n",
        "img_exts = ('.png','.jpg','.jpeg')\n",
        "# List of (person_name, image_filepath)\n",
        "for i, person in enumerate(persons):\n",
        "    person_path = os.path.join(face_data_dir, person)\n",
        "    person_files = os.listdir(person_path)\n",
        "    image_files = [(person, os.path.join(face_data_dir, person_path, image_file)) for image_file in person_files if image_file.endswith(img_exts)]\n",
        "    COML_images.extend(image_files)\n",
        "# Remove images that can't be loaded\n",
        "COML_images = [(person, image_file) for (person, image_file) in COML_images if cv2.imread(image_file) is not None]\n",
        "print(len(COML_images))    \n",
        "\n",
        "\n",
        "\n",
        "\n"
      ]
    },
    {
      "cell_type": "code",
      "execution_count": null,
      "metadata": {
        "id": "pTr9CGsWs_gS"
      },
      "outputs": [],
      "source": [
        "#embeddings = [(person, img, base_model.predict(preprocess_image(img))) for (person, img) in COML_images]\n",
        "# Create embedding for test image\n",
        "embedding_file  = '/content/Faces 10.jpeg'\n",
        "my_embedding = base_model.predict(preprocess_image(embedding_file ))\n",
        "\n",
        "\n",
        "# Calculate embedding distances and find shortest distances\n",
        "embedding_distances = [embedding_distance(my_embedding, embedding) for (person, img, embedding) in embeddings]\n",
        "shortest_distances = sorted(embedding_distances)\n",
        "\n",
        "# Show images and distances\n",
        "#plt.imshow(np.squeeze(preprocess_image(embedding_dir)))\n",
        "plt.show()\n",
        "\n",
        "for i in range(5):\n",
        "    distance = shortest_distances[i]\n",
        "    index = embedding_distances.index(distance)\n",
        "    (person, img, _) = embeddings[index]\n",
        "    plt.imshow(np.squeeze(preprocess_image(img)))\n",
        "    plt.show()\n",
        "    print(f'Top {i + 1} most similar person and embedding distance: {person}, {distance}')\n",
        "\n"
      ]
    },
    {
      "cell_type": "code",
      "execution_count": null,
      "metadata": {
        "id": "o-xUzhf1tBiO"
      },
      "outputs": [],
      "source": [
        "# Create embedding for test image\n",
        "embedding_file  = '/content/drive/MyDrive/LFW_Week5/Unknown.jpeg'\n",
        "my_embedding = base_model.predict(preprocess_image(embedding_file ))\n",
        "\n",
        "\n",
        "# Calculate embedding distances and find shortest distances\n",
        "embedding_distances = [embedding_distance(my_embedding, embedding) for (person, img, embedding) in embeddings]\n",
        "shortest_distances = sorted(embedding_distances)\n",
        "\n",
        "# Show images and distances\n",
        "# plt.imshow(np.squeeze(preprocess_image(embedding_dir)))\n",
        "plt.show()\n",
        "\n",
        "for i in range(5):\n",
        "    distance = shortest_distances[i]\n",
        "    index = embedding_distances.index(distance)\n",
        "    (person, img, _) = embeddings[index]\n",
        "    plt.imshow(np.squeeze(preprocess_image(img)))\n",
        "    plt.show()\n",
        "    print(f'Top {i + 1} most similar person and embedding distance: {person}, {distance}')\n",
        "\n"
      ]
    },
    {
      "cell_type": "code",
      "source": [
        "# Create embedding for test image\n",
        "embedding_files  = ['/content/drive/MyDrive/LFW_Week5/Unknown-'+str(x)+'.jpeg' for x in range(10)]\n",
        "my_embeddings = [base_model.predict(preprocess_image(f )) for f in embedding_files]\n",
        "\n",
        "\n",
        "# Calculate embedding distances and find shortest distances\n",
        "embedding_distances = [[embedding_distance(my_embedding, embedding) for (person, img, embedding) in embeddings] for my_embedding in my_embeddings]\n",
        "shortest_distances = [sorted(ed) for ed in embedding_distances]\n",
        "\n",
        "# Show images and distances\n",
        "# plt.imshow(np.squeeze(preprocess_image(embedding_dir)))\n",
        "# plt.show()\n",
        "\n",
        "for i in range(10):\n",
        "    distance = shortest_distances[0]\n",
        "    index = embedding_distances[i].index(distance)\n",
        "    (person, img, _) = embeddings[index]\n",
        "    plt.imshow(np.squeeze(preprocess_image(img)))\n",
        "    plt.show()\n",
        "    print(f'Top 1 most similar person and embedding distance: {person}, {distance}')\n",
        "\n"
      ],
      "metadata": {
        "id": "FD8y8fSHzIZM"
      },
      "execution_count": null,
      "outputs": []
    }
  ],
  "metadata": {
    "colab": {
      "collapsed_sections": [],
      "provenance": [],
      "authorship_tag": "ABX9TyMGAkqiS1lzdUfdgItuE9X9",
      "include_colab_link": true
    },
    "kernelspec": {
      "display_name": "Python 3",
      "name": "python3"
    },
    "language_info": {
      "name": "python"
    }
  },
  "nbformat": 4,
  "nbformat_minor": 0
}